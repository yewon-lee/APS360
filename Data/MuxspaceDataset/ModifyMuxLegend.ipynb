{
 "cells": [
  {
   "cell_type": "code",
   "execution_count": 37,
   "metadata": {},
   "outputs": [],
   "source": [
    "import pandas as pd\n",
    "from os import path"
   ]
  },
  {
   "cell_type": "code",
   "execution_count": 24,
   "metadata": {},
   "outputs": [],
   "source": [
    "# Read legend csv as pandas dataframe\n",
    "legend = pd.read_csv('./data/legend.csv')"
   ]
  },
  {
   "cell_type": "code",
   "execution_count": 26,
   "metadata": {},
   "outputs": [
    {
     "data": {
      "text/plain": [
       "neutral      6717\n",
       "happiness    5309\n",
       "HAPPINESS     387\n",
       "surprise      356\n",
       "anger         228\n",
       "DISGUST       195\n",
       "NEUTRAL       151\n",
       "SADNESS       144\n",
       "sadness       124\n",
       "ANGER          24\n",
       "disgust        13\n",
       "fear           13\n",
       "SURPRISE       12\n",
       "FEAR            8\n",
       "Name: emotion, dtype: int64"
      ]
     },
     "execution_count": 26,
     "metadata": {},
     "output_type": "execute_result"
    }
   ],
   "source": [
    "# Count the values of each emotion before modification, we see that there are both capitalized and lower case emotions\n",
    "legend['emotion'].value_counts()"
   ]
  },
  {
   "cell_type": "code",
   "execution_count": 27,
   "metadata": {},
   "outputs": [],
   "source": [
    "# Change all capitalized emotions into lower case\n",
    "legend['emotion'] = legend['emotion'].str.lower()"
   ]
  },
  {
   "cell_type": "code",
   "execution_count": 28,
   "metadata": {},
   "outputs": [
    {
     "data": {
      "text/plain": [
       "neutral      6868\n",
       "happiness    5696\n",
       "surprise      368\n",
       "sadness       268\n",
       "anger         252\n",
       "disgust       208\n",
       "fear           21\n",
       "Name: emotion, dtype: int64"
      ]
     },
     "execution_count": 28,
     "metadata": {},
     "output_type": "execute_result"
    }
   ],
   "source": [
    "# Count number of each emotion\n",
    "legend['emotion'].value_counts()"
   ]
  },
  {
   "cell_type": "code",
   "execution_count": 34,
   "metadata": {},
   "outputs": [],
   "source": [
    "# Modify the legend to match FER legend\n",
    "# FER Categories: 0=Angry, 1=Disgust, 2=Fear, 3=Happy, 4=Sad, 5=Surprise, 6=Neutral\n",
    "legend.loc[legend['emotion'] == 'anger', 'emotion'] = 0\n",
    "legend.loc[legend['emotion'] == 'disgust', 'emotion'] = 1\n",
    "legend.loc[legend['emotion'] == 'fear', 'emotion'] = 2\n",
    "legend.loc[legend['emotion'] == 'happiness', 'emotion'] = 3\n",
    "legend.loc[legend['emotion'] == 'sadness', 'emotion'] = 4\n",
    "legend.loc[legend['emotion'] == 'surprise', 'emotion'] = 5\n",
    "legend.loc[legend['emotion'] == 'neutral', 'emotion'] = 6"
   ]
  },
  {
   "cell_type": "code",
   "execution_count": 35,
   "metadata": {},
   "outputs": [
    {
     "name": "stdout",
     "output_type": "stream",
     "text": [
      "       user.id                            image emotion\n",
      "0          628  facial-expressions_2868588k.jpg       0\n",
      "1          628  facial-expressions_2868585k.jpg       5\n",
      "2          628  facial-expressions_2868584k.jpg       1\n",
      "3          628  facial-expressions_2868582k.jpg       2\n",
      "4        dwdii           Aaron_Eckhart_0001.jpg       6\n",
      "...        ...                              ...     ...\n",
      "13676  jhamski            SharmilaTagore_80.jpg       3\n",
      "13677  jhamski            SharmilaTagore_81.jpg       3\n",
      "13678  jhamski            SharmilaTagore_82.jpg       3\n",
      "13679  jhamski            SharmilaTagore_83.jpg       3\n",
      "13680  jhamski             SharmilaTagore_9.jpg       3\n",
      "\n",
      "[13681 rows x 3 columns]\n"
     ]
    }
   ],
   "source": [
    "# Visualize the new legend\n",
    "print(legend)"
   ]
  },
  {
   "cell_type": "code",
   "execution_count": 36,
   "metadata": {},
   "outputs": [
    {
     "data": {
      "text/plain": [
       "6    6868\n",
       "3    5696\n",
       "5     368\n",
       "4     268\n",
       "0     252\n",
       "1     208\n",
       "2      21\n",
       "Name: emotion, dtype: int64"
      ]
     },
     "execution_count": 36,
     "metadata": {},
     "output_type": "execute_result"
    }
   ],
   "source": [
    "# Count occurences of the new legend and see that it matches\n",
    "legend['emotion'].value_counts()"
   ]
  },
  {
   "cell_type": "code",
   "execution_count": 39,
   "metadata": {},
   "outputs": [],
   "source": [
    "# Export to csv if it doesn't exist already\n",
    "if(not path.exists('./data/new_legend.csv')):\n",
    "    legend.to_csv('./data/new_legend.csv', index=False) "
   ]
  },
  {
   "cell_type": "code",
   "execution_count": null,
   "metadata": {},
   "outputs": [],
   "source": []
  }
 ],
 "metadata": {
  "kernelspec": {
   "display_name": "Python 3",
   "language": "python",
   "name": "python3"
  },
  "language_info": {
   "codemirror_mode": {
    "name": "ipython",
    "version": 3
   },
   "file_extension": ".py",
   "mimetype": "text/x-python",
   "name": "python",
   "nbconvert_exporter": "python",
   "pygments_lexer": "ipython3",
   "version": "3.8.6"
  }
 },
 "nbformat": 4,
 "nbformat_minor": 4
}
